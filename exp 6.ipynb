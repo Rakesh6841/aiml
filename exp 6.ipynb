{
 "cells": [
  {
   "cell_type": "code",
   "execution_count": 23,
   "id": "62d7050d",
   "metadata": {},
   "outputs": [
    {
     "name": "stdout",
     "output_type": "stream",
     "text": [
      "    Outlook Temperature Humidity  Windy PlayTennis\n",
      "0     Sunny         Hot     High  False         No\n",
      "1     Sunny         Hot     High   True         No\n",
      "2  Overcast         Hot     High  False        Yes\n",
      "3     Rainy        Mild     High  False        Yes\n",
      "4     Rainy        Cool   Normal  False        Yes\n",
      "    Outlook Temperature Humidity  Windy\n",
      "0     Sunny         Hot     High  False\n",
      "1     Sunny         Hot     High   True\n",
      "2  Overcast         Hot     High  False\n",
      "3     Rainy        Mild     High  False\n",
      "4     Rainy        Cool   Normal  False\n",
      "0     No\n",
      "1     No\n",
      "2    Yes\n",
      "3    Yes\n",
      "4    Yes\n",
      "Name: PlayTennis, dtype: object\n",
      "   Outlook  Temperature  Humidity  Windy\n",
      "0        2            1         0      0\n",
      "1        2            1         0      1\n",
      "2        0            1         0      0\n",
      "3        1            2         0      0\n",
      "4        1            0         1      0\n",
      "[0 0 1 1 1 0 1 0 1 1 1 1 1 0]\n",
      "accuracy is  0.6666666666666666\n"
     ]
    }
   ],
   "source": [
    "import pandas as pd\n",
    "from sklearn import tree\n",
    "from sklearn.preprocessing import LabelEncoder\n",
    "from sklearn.naive_bayes import GaussianNB\n",
    "from sklearn.model_selection import train_test_split\n",
    "from sklearn.metrics import accuracy_score\n",
    "\n",
    "data=pd.read_csv('data.csv')\n",
    "print(data.head())\n",
    "\n",
    "x=data.iloc[:,:-1]\n",
    "print(x.head())\n",
    "\n",
    "y=data.iloc[:,-1]\n",
    "print(y.head())\n",
    "\n",
    "le_out=LabelEncoder()\n",
    "x.Outlook=le_out.fit_transform(x.Outlook)\n",
    "\n",
    "le_temp=LabelEncoder()\n",
    "x.Temperature=le_out.fit_transform(x.Temperature)\n",
    "\n",
    "le_humm=LabelEncoder()\n",
    "x.Humidity=le_out.fit_transform(x.Humidity)\n",
    "\n",
    "le_windy=LabelEncoder()\n",
    "x.Windy=le_out.fit_transform(x.Windy)\n",
    "\n",
    "print(x.head())\n",
    "\n",
    "le_pt=LabelEncoder()\n",
    "y=le_pt.fit_transform(y)\n",
    "print(y)\n",
    "\n",
    "from sklearn.model_selection import train_test_split\n",
    "x_train,x_test,y_train,y_test=train_test_split(x,y,test_size=0.2)\n",
    "\n",
    "classifier=GaussianNB()\n",
    "classifier.fit(x_train,y_train)\n",
    "\n",
    "from sklearn.metrics import accuracy_score\n",
    "print('accuracy is ',accuracy_score(classifier.predict(x_test),y_test))"
   ]
  },
  {
   "cell_type": "code",
   "execution_count": null,
   "id": "d5e64513",
   "metadata": {},
   "outputs": [],
   "source": []
  },
  {
   "cell_type": "code",
   "execution_count": null,
   "id": "ebcb68c5",
   "metadata": {},
   "outputs": [],
   "source": []
  },
  {
   "cell_type": "code",
   "execution_count": null,
   "id": "8d150163",
   "metadata": {},
   "outputs": [],
   "source": []
  }
 ],
 "metadata": {
  "kernelspec": {
   "display_name": "Python 3 (ipykernel)",
   "language": "python",
   "name": "python3"
  },
  "language_info": {
   "codemirror_mode": {
    "name": "ipython",
    "version": 3
   },
   "file_extension": ".py",
   "mimetype": "text/x-python",
   "name": "python",
   "nbconvert_exporter": "python",
   "pygments_lexer": "ipython3",
   "version": "3.9.13"
  }
 },
 "nbformat": 4,
 "nbformat_minor": 5
}
